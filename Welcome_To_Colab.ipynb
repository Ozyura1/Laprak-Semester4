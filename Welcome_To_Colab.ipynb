{
  "cells": [
    {
      "cell_type": "markdown",
      "metadata": {
        "id": "view-in-github",
        "colab_type": "text"
      },
      "source": [
        "<a href=\"https://colab.research.google.com/github/Ozyura1/Laprak-Semester4/blob/main/Welcome_To_Colab.ipynb\" target=\"_parent\"><img src=\"https://colab.research.google.com/assets/colab-badge.svg\" alt=\"Open In Colab\"/></a>"
      ]
    },
    {
      "cell_type": "markdown",
      "source": [
        "## GUIDED 1\n"
      ],
      "metadata": {
        "id": "1slinhzgk0fg"
      }
    },
    {
      "cell_type": "code",
      "source": [
        "import numpy as np\n",
        "\n",
        "x = np.array  ([3,7,2,9])\n",
        "y = np.array  ([4,7,1,4])\n",
        "\n",
        "z = x + y\n",
        "\n",
        "print(z)\n",
        "print(z.tolist())"
      ],
      "metadata": {
        "colab": {
          "base_uri": "https://localhost:8080/"
        },
        "id": "f0JCCJm_k8cg",
        "outputId": "32c14bde-475d-4702-90cd-4ac38ccdb0f0"
      },
      "execution_count": null,
      "outputs": [
        {
          "output_type": "stream",
          "name": "stdout",
          "text": [
            "[ 7 14  3 13]\n",
            "[7, 14, 3, 13]\n"
          ]
        }
      ]
    },
    {
      "cell_type": "markdown",
      "source": [
        "Program ini menggunakan NumPy untuk menjumlahkan dua array dan mencetak hasilnya baik sebagai array maupun list, menunjukkan kemudahan dalam melakukan operasi matematis pada data numerik"
      ],
      "metadata": {
        "id": "NUikj-Gtj4fx"
      }
    },
    {
      "cell_type": "markdown",
      "source": [
        "## GUIDED 2"
      ],
      "metadata": {
        "id": "B9itlyMonFzN"
      }
    },
    {
      "cell_type": "code",
      "source": [
        "import numpy as np\n",
        "\n",
        "x = np.array  ([3,7,2,9])\n",
        "y = np.array  ([4,7,1,4])\n",
        "\n",
        "z = np.concatenate ((x,y ))\n",
        "\n",
        "print(z)"
      ],
      "metadata": {
        "colab": {
          "base_uri": "https://localhost:8080/"
        },
        "id": "_niMWL-snIq8",
        "outputId": "d0687838-bfe5-4808-b9e5-c7a560e34c87"
      },
      "execution_count": null,
      "outputs": [
        {
          "output_type": "stream",
          "name": "stdout",
          "text": [
            "[3 7 2 9 4 7 1 4]\n"
          ]
        }
      ]
    },
    {
      "cell_type": "markdown",
      "source": [
        "Program ini menggunakan NumPy untuk menggabungkan dua array `x` dan `y` menjadi satu array baru `z` menggunakan fungsi `concatenate`, kemudian mencetak hasilnya, yang menunjukkan kemudahan dalam mengelola dan menggabungkan data numerik."
      ],
      "metadata": {
        "id": "hA4A5j9Oj9YZ"
      }
    },
    {
      "cell_type": "markdown",
      "source": [],
      "metadata": {
        "id": "vpZtFqN4j2Gy"
      }
    },
    {
      "cell_type": "markdown",
      "source": [
        "## GUIDED 3"
      ],
      "metadata": {
        "id": "vguvxX1Mn1Pt"
      }
    },
    {
      "cell_type": "code",
      "source": [
        "x = np.array([[40,29,63],\n",
        "             [45,70,30],\n",
        "             [30,70,50]])\n",
        "print(\"Dimensi array x:\", x.ndim)"
      ],
      "metadata": {
        "colab": {
          "base_uri": "https://localhost:8080/"
        },
        "id": "TZdC7MEZn02j",
        "outputId": "a3324da9-1d67-45e1-f17c-21ee45fc16f8"
      },
      "execution_count": null,
      "outputs": [
        {
          "output_type": "stream",
          "name": "stdout",
          "text": [
            "Dimensi array x: 2\n"
          ]
        }
      ]
    },
    {
      "cell_type": "markdown",
      "source": [
        "Program ini menggunakan NumPy untuk membuat array 2D `x` dan mencetak dimensinya menggunakan atribut `ndim`, yang menunjukkan bahwa array tersebut memiliki 2 dimensi, berguna untuk memahami struktur data dalam analisis numerik."
      ],
      "metadata": {
        "id": "GoKRHZydkCJy"
      }
    },
    {
      "cell_type": "markdown",
      "source": [
        "## GUIDED 4"
      ],
      "metadata": {
        "id": "A0cakgzVqDuo"
      }
    },
    {
      "cell_type": "code",
      "source": [
        "x = np.array([[40,29,63],\n",
        "             [45,70,30]])\n",
        "y = np.array([4.4, 7.2, 9.0])\n",
        "\n",
        "print(\"Shape x:\", x.shape)\n",
        "print(\"Size x:\", x.size)\n",
        "print(\"Type x:\", x.dtype)\n",
        "print(\"Type y:\", y.dtype)"
      ],
      "metadata": {
        "colab": {
          "base_uri": "https://localhost:8080/"
        },
        "id": "WLJ60WKDqH09",
        "outputId": "8fd9840c-cb80-4f94-fbd7-d36ad0f12bb8"
      },
      "execution_count": null,
      "outputs": [
        {
          "output_type": "stream",
          "name": "stdout",
          "text": [
            "Shape x: (2, 3)\n",
            "Size x: 6\n",
            "Type x: int64\n",
            "Type y: float64\n"
          ]
        }
      ]
    },
    {
      "cell_type": "markdown",
      "source": [
        "Program ini menggunakan NumPy untuk membuat array 2D `x` dan array 1D `y`, lalu mencetak informasi seperti bentuk (shape), jumlah elemen (size), dan tipe data (dtype) dari `x`, serta tipe data `y`, membantu memahami struktur dan karakteristik data dalam analisis numerik."
      ],
      "metadata": {
        "id": "BPjwqcfSkJRC"
      }
    },
    {
      "cell_type": "markdown",
      "source": [
        "## GUIDED 5"
      ],
      "metadata": {
        "id": "nGtqOyp3q4co"
      }
    },
    {
      "cell_type": "code",
      "source": [
        "x = np.zeros((3, 5))\n",
        "y = np.ones((4, 3))\n",
        "z = np.empty((2, 2))\n",
        "k = np.arange(0,10,2)\n",
        "l = np.linspace(0,10,5)\n",
        "m = np.full((2,3),9)\n",
        "n = np.random.random,((2, 3))\n",
        "o = np.random.randint(0, 50, size = (2, 3))\n",
        "\n",
        "print(x)\n",
        "print(y)\n",
        "print(z)\n",
        "print(k)\n",
        "print(l)\n",
        "print(m)\n",
        "print(n)\n",
        "print(o)"
      ],
      "metadata": {
        "colab": {
          "base_uri": "https://localhost:8080/"
        },
        "id": "B7DHnDHIq8sy",
        "outputId": "c19a8524-12ac-4969-ab78-9397393ccba9"
      },
      "execution_count": null,
      "outputs": [
        {
          "output_type": "stream",
          "name": "stdout",
          "text": [
            "[[0. 0. 0. 0. 0.]\n",
            " [0. 0. 0. 0. 0.]\n",
            " [0. 0. 0. 0. 0.]]\n",
            "[[1. 1. 1.]\n",
            " [1. 1. 1.]\n",
            " [1. 1. 1.]\n",
            " [1. 1. 1.]]\n",
            "[[3.5e-323 3.5e-323]\n",
            " [3.5e-323 3.5e-323]]\n",
            "[0 2 4 6 8]\n",
            "[ 0.   2.5  5.   7.5 10. ]\n",
            "[[9 9 9]\n",
            " [9 9 9]]\n",
            "(<built-in method random of numpy.random.mtrand.RandomState object at 0x7f7a36d56d40>, (2, 3))\n",
            "[[28 17 31]\n",
            " [ 5 49 21]]\n"
          ]
        }
      ]
    },
    {
      "cell_type": "markdown",
      "source": [
        "Program ini menggunakan NumPy untuk membuat berbagai jenis array, seperti array nol (`x`), array satu (`y`), array kosong (`z`), array dengan rentang nilai (`k` dan `l`), array berisi nilai konstan (`m`), serta array acak (`n` dan `o`), kemudian mencetak semua array tersebut untuk menunjukkan cara membuat dan memanipulasi data numerik dengan NumPy."
      ],
      "metadata": {
        "id": "mGRuVDJMkQVg"
      }
    },
    {
      "cell_type": "markdown",
      "source": [
        "##GUIDED 6"
      ],
      "metadata": {
        "id": "aXtcRczzwzlV"
      }
    },
    {
      "cell_type": "code",
      "source": [
        "def penjumlahan(bilangan1, bilangan2):\n",
        "  return bilangan1 + bilangan2\n",
        "x = np.fromfunction(penjumlahan, (3, 2), dtype=int )\n",
        "\n",
        "print(x)"
      ],
      "metadata": {
        "colab": {
          "base_uri": "https://localhost:8080/"
        },
        "id": "5E7cdkqvw3sX",
        "outputId": "7cca4dcc-81ce-48f8-a1af-dfe4dcd4f665"
      },
      "execution_count": null,
      "outputs": [
        {
          "output_type": "stream",
          "name": "stdout",
          "text": [
            "[[0 1]\n",
            " [1 2]\n",
            " [2 3]]\n"
          ]
        }
      ]
    },
    {
      "cell_type": "markdown",
      "source": [
        "Program ini menggunakan NumPy untuk membuat array 2D `x` dengan fungsi `fromfunction`, yang menerapkan fungsi `penjumlahan` pada setiap indeks array untuk menghasilkan nilai, sehingga mencetak array yang elemennya merupakan hasil penjumlahan indeks baris dan kolomnya, menunjukkan cara membuat array berbasis fungsi dengan NumPy."
      ],
      "metadata": {
        "id": "W6ZWTzFdki6I"
      }
    },
    {
      "cell_type": "markdown",
      "source": [
        "## GUIDED 7"
      ],
      "metadata": {
        "id": "TA6Vn66qxbPI"
      }
    },
    {
      "cell_type": "code",
      "source": [
        "x = np.array([4, 7, 9, 2, 5])\n",
        "\n",
        "# Menghapus elemen pada indeks 2\n",
        "x = np.delete(x, 2)\n",
        "print(x)\n",
        "\n",
        "y = np.array([4, 7, 9, 2, 5])\n",
        "# Mengganti elemen yang lebih besar dari 3 dengan NaN\n",
        "y = np.where(y > 3, np.nan, y)\n",
        "# Menghapus elemen NaN dari array\n",
        "y = y[~np.isnan(y)]\n",
        "print(X)"
      ],
      "metadata": {
        "colab": {
          "base_uri": "https://localhost:8080/"
        },
        "id": "Z3GZwPg0xdNw",
        "outputId": "68510f86-7b50-4c8d-9539-2543a3990c1c"
      },
      "execution_count": null,
      "outputs": [
        {
          "output_type": "stream",
          "name": "stdout",
          "text": [
            "[4 7 2 5]\n",
            "[[0. 0. 0. 0. 0.]\n",
            " [0. 0. 0. 0. 0.]\n",
            " [0. 0. 0. 0. 0.]]\n"
          ]
        }
      ]
    },
    {
      "cell_type": "markdown",
      "source": [
        "Program ini menggunakan NumPy untuk memanipulasi array: pertama, menghapus elemen pada indeks 2 dari array `x` menggunakan `np.delete`, dan kedua, mengganti elemen yang lebih besar dari 3 dengan `NaN` pada array `y` menggunakan `np.where`, lalu menghapus elemen `NaN` dengan `~np.isnan`, sehingga mencetak array yang telah dimodifikasi, menunjukkan cara menghapus dan mengganti elemen dalam array dengan NumPy."
      ],
      "metadata": {
        "id": "mjYnx5RrkoW4"
      }
    },
    {
      "cell_type": "markdown",
      "source": [
        "## GUIDED 8\n"
      ],
      "metadata": {
        "id": "9wEFe6kuyMjL"
      }
    },
    {
      "cell_type": "code",
      "source": [
        "import numpy as np\n",
        "x = np.array([4, 7, 9, 2, 5])\n",
        "y = np.sort(x)\n",
        "\n",
        "print(y)"
      ],
      "metadata": {
        "colab": {
          "base_uri": "https://localhost:8080/"
        },
        "id": "FmZpNBy3sOOc",
        "outputId": "b7339bdc-113c-4d02-ee17-c5098f619172"
      },
      "execution_count": null,
      "outputs": [
        {
          "output_type": "stream",
          "name": "stdout",
          "text": [
            "[2 4 5 7 9]\n"
          ]
        }
      ]
    },
    {
      "cell_type": "markdown",
      "source": [
        "Program ini menggunakan NumPy untuk membuat array `x` dan kemudian mengurutkan elemen-elemen dalam array tersebut menggunakan fungsi `np.sort`, menyimpan hasilnya dalam array baru `y`, dan mencetak array yang telah diurutkan, menunjukkan kemudahan dalam melakukan operasi pengurutan pada data numerik dengan NumPy."
      ],
      "metadata": {
        "id": "3WBCOnp4kp_A"
      }
    },
    {
      "cell_type": "markdown",
      "source": [
        "## GUIDED 9"
      ],
      "metadata": {
        "id": "i-1AFct6zHAZ"
      }
    },
    {
      "cell_type": "code",
      "source": [
        "import numpy as np\n",
        "\n",
        "\n",
        "x = np.array([4, 7, 9, 2, 5])\n",
        "y = np.sort([x])\n",
        "print(x[2])\n",
        "\n",
        "# Slicing\n",
        "subset = x[1:4]\n",
        "print(subset)"
      ],
      "metadata": {
        "colab": {
          "base_uri": "https://localhost:8080/"
        },
        "id": "F4tTKA_ky8Ki",
        "outputId": "d5382006-6370-4dfd-acae-622f2f0f0924"
      },
      "execution_count": null,
      "outputs": [
        {
          "output_type": "stream",
          "name": "stdout",
          "text": [
            "9\n",
            "[7 9 2]\n"
          ]
        }
      ]
    },
    {
      "cell_type": "markdown",
      "source": [
        "Program ini menggunakan NumPy untuk membuat array `x`, mengurutkan elemennya dengan `np.sort`, mencetak elemen pada indeks 2, dan melakukan slicing untuk mengambil subset elemen dari indeks 1 hingga 3, menunjukkan cara mengakses dan memanipulasi elemen array dengan NumPy."
      ],
      "metadata": {
        "id": "TE6Z9wX9ku2o"
      }
    },
    {
      "cell_type": "markdown",
      "source": [
        "## GUIDED 10"
      ],
      "metadata": {
        "id": "6r8qHCu90Vw2"
      }
    },
    {
      "cell_type": "code",
      "source": [
        "# prompt: x = np.array([3, 2 6, 5])\n",
        "\n",
        "x = np.array([3, 2, 6, 5])\n",
        "\n",
        "y = x.view()\n",
        "y[0] = 99\n",
        "\n",
        "print(\"Array asli :\", x)\n",
        "print(\"Shallow copy :\", y)\n"
      ],
      "metadata": {
        "colab": {
          "base_uri": "https://localhost:8080/"
        },
        "id": "-YAQWY9UzQS0",
        "outputId": "170e3932-8fae-4c5c-c266-714f5c157e4b"
      },
      "execution_count": null,
      "outputs": [
        {
          "output_type": "stream",
          "name": "stdout",
          "text": [
            "Array asli : [99  2  6  5]\n",
            "Shallow copy : [99  2  6  5]\n"
          ]
        }
      ]
    },
    {
      "cell_type": "markdown",
      "source": [
        "Program ini menggunakan NumPy untuk membuat array `x` dan kemudian membuat salinan dangkal (shallow copy) `y` dari array tersebut menggunakan metode `view()`. Ketika elemen pertama dari `y` diubah menjadi 99, perubahan tersebut juga tercermin pada array asli `x`, karena `y` dan `x` berbagi data yang sama. Program ini mencetak kedua array untuk menunjukkan bahwa perubahan pada salinan mempengaruhi array asli, yang menggambarkan perilaku salinan dangkal dalam NumPy."
      ],
      "metadata": {
        "id": "F9Fdq4Qwk2a_"
      }
    },
    {
      "cell_type": "markdown",
      "source": [
        "## GUIDED 11"
      ],
      "metadata": {
        "id": "zZtrZu-90tia"
      }
    },
    {
      "cell_type": "code",
      "source": [
        "import numpy as np\n",
        "\n",
        "#shallow copy\n",
        "x = np.array([3, 2, 6, 5])\n",
        "y = x.copy()\n",
        "y[0] = 99\n",
        "\n",
        "print(\"Array asli:\", x)\n",
        "print(\"Array copy:\", y)"
      ],
      "metadata": {
        "colab": {
          "base_uri": "https://localhost:8080/"
        },
        "id": "N8ttSDyD0Djg",
        "outputId": "943d7c70-eb48-4e3f-d59a-2c3cc7af169f"
      },
      "execution_count": null,
      "outputs": [
        {
          "output_type": "stream",
          "name": "stdout",
          "text": [
            "Array asli: [3 2 6 5]\n",
            "Array copy: [99  2  6  5]\n"
          ]
        }
      ]
    },
    {
      "cell_type": "markdown",
      "source": [
        "Program ini menggunakan NumPy untuk membuat array `x` dan kemudian membuat salinan dalam (deep copy) `y` dari array tersebut menggunakan metode `copy()`. Ketika elemen pertama dari `y` diubah menjadi 99, perubahan tersebut tidak mempengaruhi array asli `x`, karena `y` adalah salinan yang terpisah. Program ini mencetak kedua array untuk menunjukkan bahwa perubahan pada salinan tidak mempengaruhi array asli, yang menggambarkan perilaku salinan dalam dalam NumPy."
      ],
      "metadata": {
        "id": "z-s08IPOk6Bv"
      }
    },
    {
      "cell_type": "markdown",
      "source": [
        "## GUIDED 12"
      ],
      "metadata": {
        "id": "jLvUBI4O1TXr"
      }
    },
    {
      "cell_type": "code",
      "source": [
        "x = np.array ([7, 2, 9, 3])\n",
        "\n",
        "#Nilai Maksimum\n",
        "max_value = np.max(x)\n",
        "print (\"Nilai maks : \", max_value)\n",
        "\n",
        "#Nilai Minimum\n",
        "min_value = np.min(x)\n",
        "print (\"Nilai min : \", min_value)\n",
        "\n",
        "#Penjumlahan\n",
        "sum_value = np.sum(x)\n",
        "print(\"Jumlah total: \", sum_value)\n",
        "\n",
        "#Rata - rata\n",
        "mean_value = np.mean(x)\n",
        "print(\"Rata - rata: \", mean_value)"
      ],
      "metadata": {
        "colab": {
          "base_uri": "https://localhost:8080/"
        },
        "id": "jv8DHVYc1PdP",
        "outputId": "663e3f13-0a5e-45a6-beae-455069eb0252"
      },
      "execution_count": null,
      "outputs": [
        {
          "output_type": "stream",
          "name": "stdout",
          "text": [
            "Nilai maks :  9\n",
            "Nilai min :  2\n",
            "Jumlah total:  21\n",
            "Rata - rata:  5.25\n"
          ]
        }
      ]
    },
    {
      "cell_type": "markdown",
      "source": [
        "Program ini menggunakan NumPy untuk melakukan analisis dasar pada array `x`, yang berisi beberapa nilai. Pertama, program menghitung dan mencetak nilai maksimum menggunakan `np.max()`, nilai minimum menggunakan `np.min()`, jumlah total elemen menggunakan `np.sum()`, dan rata-rata menggunakan `np.mean()`. Hasilnya memberikan informasi statistik yang berguna tentang data dalam array, menunjukkan kemudahan dalam melakukan perhitungan statistik dengan NumPy."
      ],
      "metadata": {
        "id": "j-tjavjbk_IH"
      }
    },
    {
      "cell_type": "markdown",
      "source": [
        "## GUIDED 13"
      ],
      "metadata": {
        "id": "mYCXtzSg13yL"
      }
    },
    {
      "cell_type": "code",
      "source": [
        "x = np.array([[1, 2, 3], [4, 5, 6]])\n",
        "y = x.transpose()\n",
        "print(y)"
      ],
      "metadata": {
        "colab": {
          "base_uri": "https://localhost:8080/"
        },
        "id": "41q9AK2v1qEV",
        "outputId": "c5c58690-e718-40c4-88da-69c40ecfe82f"
      },
      "execution_count": null,
      "outputs": [
        {
          "output_type": "stream",
          "name": "stdout",
          "text": [
            "[[1 4]\n",
            " [2 5]\n",
            " [3 6]]\n"
          ]
        }
      ]
    },
    {
      "cell_type": "markdown",
      "source": [
        "Program ini menggunakan NumPy untuk membuat array 2D `x` dan kemudian melakukan operasi transpose menggunakan `x.transpose()`, yang menghasilkan array `y` dengan baris dan kolom yang ditukar. Program ini mencetak array hasil transpose, menunjukkan cara mengubah susunan elemen array dari baris ke kolom atau sebaliknya dengan NumPy."
      ],
      "metadata": {
        "id": "toOG5PEFlDi_"
      }
    },
    {
      "cell_type": "markdown",
      "source": [
        "## GUIDED 14"
      ],
      "metadata": {
        "id": "DfZyvmzE172D"
      }
    },
    {
      "cell_type": "code",
      "source": [
        "x = np.array([1, 2, 3, 4, 5, 6])\n",
        "# Mengubah menjadi array 2D dengan 2 baris dan 3 kolom\n",
        "y = x.reshape((2, 3))\n",
        "print(y)"
      ],
      "metadata": {
        "colab": {
          "base_uri": "https://localhost:8080/"
        },
        "id": "PkiryEQf1-wE",
        "outputId": "d7aceb83-e693-4184-eec1-20369ee1c6dd"
      },
      "execution_count": null,
      "outputs": [
        {
          "output_type": "stream",
          "name": "stdout",
          "text": [
            "[[1 2 3]\n",
            " [4 5 6]]\n"
          ]
        }
      ]
    },
    {
      "cell_type": "markdown",
      "source": [
        "Program ini menggunakan NumPy untuk mengubah array 1D `x` menjadi array 2D `y` dengan 2 baris dan 3 kolom menggunakan metode `reshape()`. Program ini mencetak array hasil reshape, menunjukkan cara mengubah bentuk array tanpa mengubah data aslinya, yang berguna dalam manipulasi dan analisis data dengan NumPy."
      ],
      "metadata": {
        "id": "onPN2icqlH2W"
      }
    },
    {
      "cell_type": "markdown",
      "source": [
        "## UNGUIDED 1"
      ],
      "metadata": {
        "id": "JHFX3bergoL1"
      }
    },
    {
      "cell_type": "code",
      "source": [
        "import numpy as np\n",
        "\n",
        "# Fungsi untuk menampilkan menu\n",
        "def menu():\n",
        "    print(\"\\nMenu:\")\n",
        "    print(\"1. Tambah Data Mahasiswa\")\n",
        "    print(\"2. Tampilkan Semua Data Mahasiswa\")\n",
        "    print(\"3. Tampilkan Nilai Tertinggi, Terendah, dan Rata-rata\")\n",
        "    print(\"4. Cari Mahasiswa\")\n",
        "    print(\"5. Keluar\")\n",
        "\n",
        "# Inisialisasi array kosong untuk menyimpan data mahasiswa\n",
        "data_mahasiswa = []\n",
        "\n",
        "while True:\n",
        "    menu()\n",
        "    pilihan = input(\"Pilih menu (1-5): \")\n",
        "\n",
        "    if pilihan == '1':\n",
        "        # Input data mahasiswa\n",
        "        nama = input(\"Masukkan Nama Mahasiswa: \")\n",
        "        nim = input(\"Masukkan NIM Mahasiswa: \")\n",
        "        nilai = float(input(\"Masukkan Nilai Mahasiswa: \"))\n",
        "        tahun_masuk = int(input(\"Masukkan Tahun Masuk Mahasiswa: \"))\n",
        "\n",
        "        # Menyimpan data mahasiswa dalam bentuk tuple\n",
        "        data_mahasiswa.append((nama, nim, nilai, tahun_masuk))\n",
        "        print(\"Data mahasiswa berhasil ditambahkan.\")\n",
        "\n",
        "    elif pilihan == '2':\n",
        "        # Tampilkan semua data mahasiswa\n",
        "        if data_mahasiswa:\n",
        "            print(\"\\nData Mahasiswa:\")\n",
        "            for idx, (nama, nim, nilai, tahun_masuk) in enumerate(data_mahasiswa, start=1):\n",
        "                print(f\"{idx}. Nama: {nama}, NIM: {nim}, Nilai: {nilai}, Tahun Masuk: {tahun_masuk}\")\n",
        "        else:\n",
        "            print(\"Belum ada data mahasiswa.\")\n",
        "\n",
        "    elif pilihan == '3':\n",
        "        # Tampilkan nilai tertinggi, terendah, dan rata-rata\n",
        "        if data_mahasiswa:\n",
        "            nilai_array = np.array([nilai for _, _, nilai, _ in data_mahasiswa])\n",
        "            nilai_tertinggi = np.max(nilai_array)\n",
        "            nilai_terendah = np.min(nilai_array)\n",
        "            nilai_rata_rata = np.mean(nilai_array)\n",
        "\n",
        "            print(f\"Nilai Tertinggi: {nilai_tertinggi}\")\n",
        "            print(f\"Nilai Terendah: {nilai_terendah}\")\n",
        "            print(f\"Nilai Rata-rata: {nilai_rata_rata}\")\n",
        "        else:\n",
        "            print(\"Belum ada data mahasiswa.\")\n",
        "\n",
        "    elif pilihan == '4':\n",
        "        # Cari mahasiswa berdasarkan NIM atau Nama\n",
        "        cari = input(\"Masukkan NIM atau Nama yang dicari: \")\n",
        "        hasil_cari = [data for data in data_mahasiswa if cari in data]\n",
        "\n",
        "        if hasil_cari:\n",
        "            print(\"\\nHasil Pencarian:\")\n",
        "            for (nama, nim, nilai, tahun_masuk) in hasil_cari:\n",
        "                print(f\"Nama: {nama}, NIM: {nim}, Nilai: {nilai}, Tahun Masuk: {tahun_masuk}\")\n",
        "        else:\n",
        "            print(\"Mahasiswa tidak ditemukan.\")\n",
        "\n",
        "    elif pilihan == '5':\n",
        "        print(\"Keluar dari program.\")\n",
        "        break\n",
        "\n",
        "    else:\n",
        "        print(\"Pilihan tidak valid. Silakan pilih menu yang tersedia.\")"
      ],
      "metadata": {
        "colab": {
          "base_uri": "https://localhost:8080/"
        },
        "id": "DvTJRE_2hIe4",
        "outputId": "1520f7f8-2ebf-42b9-d7c2-56c853d2cda4"
      },
      "execution_count": null,
      "outputs": [
        {
          "output_type": "stream",
          "name": "stdout",
          "text": [
            "\n",
            "Menu:\n",
            "1. Tambah Data Mahasiswa\n",
            "2. Tampilkan Semua Data Mahasiswa\n",
            "3. Tampilkan Nilai Tertinggi, Terendah, dan Rata-rata\n",
            "4. Cari Mahasiswa\n",
            "5. Keluar\n",
            "Pilih menu (1-5): 1\n",
            "Masukkan Nama Mahasiswa: yanto\n",
            "Masukkan NIM Mahasiswa: 123\n",
            "Masukkan Nilai Mahasiswa: 90\n",
            "Masukkan Tahun Masuk Mahasiswa: 2025\n",
            "Data mahasiswa berhasil ditambahkan.\n",
            "\n",
            "Menu:\n",
            "1. Tambah Data Mahasiswa\n",
            "2. Tampilkan Semua Data Mahasiswa\n",
            "3. Tampilkan Nilai Tertinggi, Terendah, dan Rata-rata\n",
            "4. Cari Mahasiswa\n",
            "5. Keluar\n",
            "Pilih menu (1-5): 1\n",
            "Masukkan Nama Mahasiswa: yanti\n",
            "Masukkan NIM Mahasiswa: 321\n",
            "Masukkan Nilai Mahasiswa: 80\n",
            "Masukkan Tahun Masuk Mahasiswa: 2025\n",
            "Data mahasiswa berhasil ditambahkan.\n",
            "\n",
            "Menu:\n",
            "1. Tambah Data Mahasiswa\n",
            "2. Tampilkan Semua Data Mahasiswa\n",
            "3. Tampilkan Nilai Tertinggi, Terendah, dan Rata-rata\n",
            "4. Cari Mahasiswa\n",
            "5. Keluar\n",
            "Pilih menu (1-5): 2\n",
            "\n",
            "Data Mahasiswa:\n",
            "1. Nama: yanto, NIM: 123, Nilai: 90.0, Tahun Masuk: 2025\n",
            "2. Nama: yanti, NIM: 321, Nilai: 80.0, Tahun Masuk: 2025\n",
            "\n",
            "Menu:\n",
            "1. Tambah Data Mahasiswa\n",
            "2. Tampilkan Semua Data Mahasiswa\n",
            "3. Tampilkan Nilai Tertinggi, Terendah, dan Rata-rata\n",
            "4. Cari Mahasiswa\n",
            "5. Keluar\n",
            "Pilih menu (1-5): 3\n",
            "Nilai Tertinggi: 90.0\n",
            "Nilai Terendah: 80.0\n",
            "Nilai Rata-rata: 85.0\n",
            "\n",
            "Menu:\n",
            "1. Tambah Data Mahasiswa\n",
            "2. Tampilkan Semua Data Mahasiswa\n",
            "3. Tampilkan Nilai Tertinggi, Terendah, dan Rata-rata\n",
            "4. Cari Mahasiswa\n",
            "5. Keluar\n",
            "Pilih menu (1-5): 4\n",
            "Masukkan NIM atau Nama yang dicari: yanto\n",
            "\n",
            "Hasil Pencarian:\n",
            "Nama: yanto, NIM: 123, Nilai: 90.0, Tahun Masuk: 2025\n",
            "\n",
            "Menu:\n",
            "1. Tambah Data Mahasiswa\n",
            "2. Tampilkan Semua Data Mahasiswa\n",
            "3. Tampilkan Nilai Tertinggi, Terendah, dan Rata-rata\n",
            "4. Cari Mahasiswa\n",
            "5. Keluar\n",
            "Pilih menu (1-5): 5\n",
            "Keluar dari program.\n"
          ]
        }
      ]
    },
    {
      "cell_type": "markdown",
      "source": [
        "Program ini adalah aplikasi manajemen data mahasiswa yang menggunakan NumPy untuk menghitung nilai tertinggi, terendah, dan rata-rata. Penjelasan lebih lanjut:\n",
        "\n",
        "1. **Menu**: Program menampilkan menu dengan pilihan untuk menambah data mahasiswa, menampilkan semua data, menampilkan statistik nilai, mencari mahasiswa, dan keluar dari program.\n",
        "\n",
        "2. **Input Data Mahasiswa**: Pengguna dapat memasukkan nama, NIM, nilai, dan tahun masuk mahasiswa. Data disimpan dalam bentuk tuple dalam list `data_mahasiswa`.\n",
        "\n",
        "3. **Tampilkan Semua Data Mahasiswa**: Jika ada data yang dimasukkan, program akan menampilkan semua data mahasiswa yang telah disimpan.\n",
        "\n",
        "4. **Statistik Nilai**: Program menggunakan NumPy untuk menghitung nilai tertinggi, terendah, dan rata-rata dari nilai mahasiswa yang telah dimasukkan. Ini dilakukan dengan mengonversi nilai mahasiswa ke dalam array NumPy dan menggunakan fungsi `np.max()`, `np.min()`, dan `np.mean()`.\n",
        "\n",
        "5. **Cari Mahasiswa**: Pengguna dapat mencari mahasiswa berdasarkan NIM atau nama. Program akan menampilkan hasil pencarian jika ditemukan.\n",
        "\n",
        "6. **Keluar**: Program akan berhenti jika pengguna memilih opsi untuk keluar.\n",
        "\n",
        "Program ini menunjukkan bagaimana menggunakan struktur data dasar dan NumPy untuk mengelola dan menganalisis data dalam aplikasi berbasis teks."
      ],
      "metadata": {
        "id": "hps-GQPvlS2h"
      }
    },
    {
      "cell_type": "markdown",
      "source": [
        "## UNGUIDED 2"
      ],
      "metadata": {
        "id": "4mJLCpjSiQ5e"
      }
    },
    {
      "cell_type": "code",
      "source": [
        "import numpy as np\n",
        "\n",
        "# Fungsi untuk menampilkan menu\n",
        "def menu():\n",
        "    print(\"\\nMenu:\")\n",
        "    print(\"1. Tambah Data Barang\")\n",
        "    print(\"2. Tampilkan Semua Data Barang\")\n",
        "    print(\"3. Tampilkan Total Nilai Inventaris\")\n",
        "    print(\"4. Cari Barang\")\n",
        "    print(\"5. Keluar\")\n",
        "\n",
        "# Inisialisasi array kosong untuk menyimpan data barang\n",
        "data_barang = []\n",
        "\n",
        "while True:\n",
        "    menu()\n",
        "    pilihan = input(\"Pilih menu (1-5): \")\n",
        "\n",
        "    if pilihan == '1':\n",
        "        # Input data barang\n",
        "        nama_barang = input(\"Masukkan Nama Barang: \")\n",
        "        kode_barang = input(\"Masukkan Kode Barang: \")\n",
        "        jumlah = int(input(\"Masukkan Jumlah Barang: \"))\n",
        "        harga_per_unit = float(input(\"Masukkan Harga Per Unit: \"))\n",
        "\n",
        "        # Menyimpan data barang dalam bentuk tuple\n",
        "        data_barang.append((nama_barang, kode_barang, jumlah, harga_per_unit))\n",
        "        print(\"Data barang berhasil ditambahkan.\")\n",
        "\n",
        "    elif pilihan == '2':\n",
        "        # Tampilkan semua data barang\n",
        "        if data_barang:\n",
        "            print(\"\\nData Barang:\")\n",
        "            for idx, (nama_barang, kode_barang, jumlah, harga_per_unit) in enumerate(data_barang, start=1):\n",
        "                print(f\"{idx}. Nama Barang: {nama_barang}, Kode Barang: {kode_barang}, Jumlah: {jumlah}, Harga Per Unit: {harga_per_unit}\")\n",
        "        else:\n",
        "            print(\"Belum ada data barang.\")\n",
        "\n",
        "    elif pilihan == '3':\n",
        "        # Tampilkan total nilai inventaris\n",
        "        if data_barang:\n",
        "            total_nilai = np.sum([jumlah * harga_per_unit for _, _, jumlah, harga_per_unit in data_barang])\n",
        "            print(f\"Total Nilai Inventaris: {total_nilai}\")\n",
        "        else:\n",
        "            print(\"Belum ada data barang.\")\n",
        "\n",
        "    elif pilihan == '4':\n",
        "        # Cari barang berdasarkan KodeBarang atau NamaBarang\n",
        "        cari = input(\"Masukkan Kode Barang atau Nama Barang yang dicari: \")\n",
        "        hasil_cari = [data for data in data_barang if cari in data]\n",
        "\n",
        "        if hasil_cari:\n",
        "            print(\"\\nHasil Pencarian:\")\n",
        "            for (nama_barang, kode_barang, jumlah, harga_per_unit) in hasil_cari:\n",
        "                print(f\"Nama Barang: {nama_barang}, Kode Barang: {kode_barang}, Jumlah: {jumlah}, Harga Per Unit: {harga_per_unit}\")\n",
        "        else:\n",
        "            print(\"Barang tidak ditemukan.\")\n",
        "\n",
        "    elif pilihan == '5':\n",
        "        print(\"Keluar dari program.\")\n",
        "        break\n",
        "\n",
        "    else:\n",
        "        print(\"Pilihan tidak valid. Silakan pilih menu yang tersedia.\")"
      ],
      "metadata": {
        "colab": {
          "base_uri": "https://localhost:8080/"
        },
        "id": "fNGM4JQKiSzd",
        "outputId": "e281bc54-27a8-49e5-ab61-ba942b9d5327"
      },
      "execution_count": null,
      "outputs": [
        {
          "output_type": "stream",
          "name": "stdout",
          "text": [
            "\n",
            "Menu:\n",
            "1. Tambah Data Barang\n",
            "2. Tampilkan Semua Data Barang\n",
            "3. Tampilkan Total Nilai Inventaris\n",
            "4. Cari Barang\n",
            "5. Keluar\n",
            "Pilih menu (1-5): 1\n",
            "Masukkan Nama Barang: Batu\n",
            "Masukkan Kode Barang: 1\n",
            "Masukkan Jumlah Barang: 10\n",
            "Masukkan Harga Per Unit: 1000\n",
            "Data barang berhasil ditambahkan.\n",
            "\n",
            "Menu:\n",
            "1. Tambah Data Barang\n",
            "2. Tampilkan Semua Data Barang\n",
            "3. Tampilkan Total Nilai Inventaris\n",
            "4. Cari Barang\n",
            "5. Keluar\n",
            "Pilih menu (1-5): 1\n",
            "Masukkan Nama Barang: Air\n",
            "Masukkan Kode Barang: 2\n",
            "Masukkan Jumlah Barang: 15\n",
            "Masukkan Harga Per Unit: 500\n",
            "Data barang berhasil ditambahkan.\n",
            "\n",
            "Menu:\n",
            "1. Tambah Data Barang\n",
            "2. Tampilkan Semua Data Barang\n",
            "3. Tampilkan Total Nilai Inventaris\n",
            "4. Cari Barang\n",
            "5. Keluar\n",
            "Pilih menu (1-5): 2\n",
            "\n",
            "Data Barang:\n",
            "1. Nama Barang: Batu, Kode Barang: 1, Jumlah: 10, Harga Per Unit: 1000.0\n",
            "2. Nama Barang: Air, Kode Barang: 2, Jumlah: 15, Harga Per Unit: 500.0\n",
            "\n",
            "Menu:\n",
            "1. Tambah Data Barang\n",
            "2. Tampilkan Semua Data Barang\n",
            "3. Tampilkan Total Nilai Inventaris\n",
            "4. Cari Barang\n",
            "5. Keluar\n",
            "Pilih menu (1-5): 3\n",
            "Total Nilai Inventaris: 17500.0\n",
            "\n",
            "Menu:\n",
            "1. Tambah Data Barang\n",
            "2. Tampilkan Semua Data Barang\n",
            "3. Tampilkan Total Nilai Inventaris\n",
            "4. Cari Barang\n",
            "5. Keluar\n",
            "Pilih menu (1-5): 4\n",
            "Masukkan Kode Barang atau Nama Barang yang dicari: Batu\n",
            "\n",
            "Hasil Pencarian:\n",
            "Nama Barang: Batu, Kode Barang: 1, Jumlah: 10, Harga Per Unit: 1000.0\n",
            "\n",
            "Menu:\n",
            "1. Tambah Data Barang\n",
            "2. Tampilkan Semua Data Barang\n",
            "3. Tampilkan Total Nilai Inventaris\n",
            "4. Cari Barang\n",
            "5. Keluar\n",
            "Pilih menu (1-5): 5\n",
            "Keluar dari program.\n"
          ]
        }
      ]
    },
    {
      "cell_type": "markdown",
      "source": [
        "Program ini adalah aplikasi manajemen inventaris barang yang menggunakan NumPy untuk menghitung total nilai inventaris. Penjelasan lebih lanjutnya:\n",
        "\n",
        "1. **Menu**: Program menampilkan menu dengan pilihan untuk menambah data barang, menampilkan semua data, menghitung total nilai inventaris, mencari barang, dan keluar dari program.\n",
        "\n",
        "2. **Input Data Barang**: Pengguna dapat memasukkan nama barang, kode barang, jumlah, dan harga per unit. Data disimpan dalam bentuk tuple dalam list `data_barang`.\n",
        "\n",
        "3. **Tampilkan Semua Data Barang**: Jika ada data yang dimasukkan, program akan menampilkan semua data barang yang telah disimpan.\n",
        "\n",
        "4. **Total Nilai Inventaris**: Program menggunakan NumPy untuk menghitung total nilai inventaris dengan mengalikan jumlah barang dengan harga per unit untuk setiap barang, kemudian menjumlahkannya menggunakan `np.sum()`.\n",
        "\n",
        "5. **Cari Barang**: Pengguna dapat mencari barang berdasarkan kode barang atau nama barang. Program akan menampilkan hasil pencarian jika ditemukan.\n",
        "\n",
        "6. **Keluar**: Program akan berhenti jika pengguna memilih opsi untuk keluar.\n",
        "\n",
        "Program ini menunjukkan bagaimana menggunakan struktur data dasar dan NumPy untuk mengelola dan menganalisis data inventaris dalam aplikasi berbasis teks."
      ],
      "metadata": {
        "id": "JWjdZFINl09t"
      }
    }
  ],
  "metadata": {
    "colab": {
      "name": "Welcome To Colab",
      "toc_visible": true,
      "provenance": [],
      "include_colab_link": true
    },
    "kernelspec": {
      "display_name": "Python 3",
      "name": "python3"
    }
  },
  "nbformat": 4,
  "nbformat_minor": 0
}