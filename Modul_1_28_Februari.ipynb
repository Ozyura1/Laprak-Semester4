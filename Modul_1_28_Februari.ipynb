{
  "nbformat": 4,
  "nbformat_minor": 0,
  "metadata": {
    "colab": {
      "provenance": [],
      "include_colab_link": true
    },
    "kernelspec": {
      "name": "python3",
      "display_name": "Python 3"
    },
    "language_info": {
      "name": "python"
    }
  },
  "cells": [
    {
      "cell_type": "markdown",
      "metadata": {
        "id": "view-in-github",
        "colab_type": "text"
      },
      "source": [
        "<a href=\"https://colab.research.google.com/github/Ozyura1/Laprak-Semester4/blob/main/Modul_1_28_Februari.ipynb\" target=\"_parent\"><img src=\"https://colab.research.google.com/assets/colab-badge.svg\" alt=\"Open In Colab\"/></a>"
      ]
    },
    {
      "cell_type": "markdown",
      "source": [
        "## GUIDED 1\n"
      ],
      "metadata": {
        "id": "N4RvJrkkwAFL"
      }
    },
    {
      "cell_type": "code",
      "source": [
        "print(\"halo semuanya\")"
      ],
      "metadata": {
        "colab": {
          "base_uri": "https://localhost:8080/"
        },
        "id": "9skJUrnlwZ_a",
        "outputId": "a165eafc-70fd-466b-8d6b-8ac16924ec8d"
      },
      "execution_count": null,
      "outputs": [
        {
          "output_type": "stream",
          "name": "stdout",
          "text": [
            "halo semuanya\n"
          ]
        }
      ]
    },
    {
      "cell_type": "markdown",
      "source": [
        "Program pyhton untuk mencetak \"halo semuanya\""
      ],
      "metadata": {
        "id": "GwpjASgMw-6P"
      }
    },
    {
      "cell_type": "markdown",
      "source": [
        "## GUIDED 2"
      ],
      "metadata": {
        "id": "_mQXaTbpxN1c"
      }
    },
    {
      "cell_type": "code",
      "source": [
        "salam = \"selamat pagi, semoga harimu cerah\"\n",
        "print(salam.lower())"
      ],
      "metadata": {
        "colab": {
          "base_uri": "https://localhost:8080/"
        },
        "id": "79ph2x5HxQ_g",
        "outputId": "a8254a18-f1c1-405e-da2c-9297fb037115"
      },
      "execution_count": null,
      "outputs": [
        {
          "output_type": "stream",
          "name": "stdout",
          "text": [
            "selamat pagi, semoga harimu cerah\n"
          ]
        }
      ]
    },
    {
      "cell_type": "markdown",
      "source": [
        "Menjelaskan tentang deskripsi \"selamat pagi, semoga harimu cerah\" dengan menggunakan lower. lower berfungsi untuk konversi ke huruf kecil."
      ],
      "metadata": {
        "id": "zTdq9keKaQrP"
      }
    },
    {
      "cell_type": "code",
      "source": [],
      "metadata": {
        "id": "LYk2dFPoaQC4"
      },
      "execution_count": null,
      "outputs": []
    },
    {
      "cell_type": "markdown",
      "source": [
        "## GUIDED 3"
      ],
      "metadata": {
        "id": "CYqMKHpwyIe_"
      }
    },
    {
      "cell_type": "code",
      "source": [
        "list_buah = [\"semangka\", \"jeruk\", \"apel\", \"kiwi\"]\n",
        "list_buah[1] = \"buah naga\"\n",
        "print(list_buah)"
      ],
      "metadata": {
        "colab": {
          "base_uri": "https://localhost:8080/"
        },
        "id": "uxaIWUWJyg0E",
        "outputId": "052bba11-b1a0-4077-ba73-417ff40e6aa1"
      },
      "execution_count": null,
      "outputs": [
        {
          "output_type": "stream",
          "name": "stdout",
          "text": [
            "['semangka', 'buah naga', 'apel', 'kiwi']\n"
          ]
        }
      ]
    },
    {
      "cell_type": "markdown",
      "source": [
        "Menjelaskan tentang list pada buah dan fungsi list_buah[1] berfungsi untuk menggantikan buah jeruk menjadi buah naga"
      ],
      "metadata": {
        "id": "cVp2IoV4azax"
      }
    },
    {
      "cell_type": "code",
      "source": [],
      "metadata": {
        "id": "fNahauJwaywP"
      },
      "execution_count": null,
      "outputs": []
    },
    {
      "cell_type": "markdown",
      "source": [
        "## GUIDED 4"
      ],
      "metadata": {
        "id": "t6eQIXQQ1jum"
      }
    },
    {
      "cell_type": "code",
      "source": [
        "data_dict = {\n",
        "    \"nama\" : \"adam\",\n",
        "    \"umur\" : 20,\n",
        "    \"kuliah\" : \"telkom\",\n",
        "    \"asal\" : \"tegal\"\n",
        "}\n",
        "print (data_dict)\n",
        "print (data_dict[\"asal\"])\n",
        "print (data_dict[\"kuliah\"])\n",
        "print (data_dict[\"nama\"])\n",
        "\n",
        "data_dict[\"makanan\"] = \"naspad\"\n",
        "print(\"setelah ditambahkan data makanan: \")\n",
        "print(data_dict)\n",
        "\n",
        "del data_dict[\"kuliah\"]\n",
        "print(\"setelah dihapus data kuliah: \")\n",
        "print(data_dict)\n",
        "\n",
        "if \"nama\" in data_dict:\n",
        "  print(\"key 'nama' ada di dalam dictionary. \")\n",
        "else:\n",
        "  print(\"key 'nama' tidak ditemukan di dalam dictionary.\")"
      ],
      "metadata": {
        "colab": {
          "base_uri": "https://localhost:8080/"
        },
        "id": "tWNlBQbz1mGk",
        "outputId": "518b0720-5e81-4312-9408-41c4076e939c"
      },
      "execution_count": null,
      "outputs": [
        {
          "output_type": "stream",
          "name": "stdout",
          "text": [
            "{'nama': 'adam', 'umur': 20, 'kuliah': 'telkom', 'asal': 'tegal'}\n",
            "tegal\n",
            "telkom\n",
            "adam\n",
            "setelah ditambahkan data makanan: \n",
            "{'nama': 'adam', 'umur': 20, 'kuliah': 'telkom', 'asal': 'tegal', 'makanan': 'naspad'}\n",
            "setelah dihapus data kuliah: \n",
            "{'nama': 'adam', 'umur': 20, 'asal': 'tegal', 'makanan': 'naspad'}\n",
            "key 'nama' ada di dalam dictionary. \n"
          ]
        }
      ]
    },
    {
      "cell_type": "markdown",
      "source": [
        "Menjelaskan tentang menyimpan pasangan key-value. pada codingan diatas memiliki beberapa fungsi yaitu:\n",
        "1. fungsi data_dict yg berfungsi untuk menyimpan nama, umur, kuliah, dan asal\n",
        "2. del data_dict yg berfungsi untuk menghapus salah satu data_dict sebelumnya dan diganti dengan data_dict yg baru\n",
        "3. if - else berfungsi untuk memeriksa apakah data data_dict tersedia atau tidak. jika tersedia maka if dan tidak tersedia maka else"
      ],
      "metadata": {
        "id": "yG4PPpjYctRB"
      }
    },
    {
      "cell_type": "markdown",
      "source": [
        "## GUIDED 5\n"
      ],
      "metadata": {
        "id": "VYjJo6DBK2Fb"
      }
    },
    {
      "cell_type": "code",
      "source": [
        "set_data = {1, 2, 3, 4, \"anjay\", 5.6}\n",
        "print(set_data)\n",
        "\n",
        "set_data.add(\"icikiwirr\")\n",
        "print(\"setelah ditambahkan: \", set_data)\n",
        "\n",
        "set_data.remove(2)\n",
        "print(\"setelah dihapus: \", set_data)"
      ],
      "metadata": {
        "colab": {
          "base_uri": "https://localhost:8080/"
        },
        "id": "9z2sh5fXK4sa",
        "outputId": "e66f78c7-583b-4ae3-f41f-a2c62c56228d"
      },
      "execution_count": null,
      "outputs": [
        {
          "output_type": "stream",
          "name": "stdout",
          "text": [
            "{1, 2, 3, 4, 'anjay', 5.6}\n",
            "setelah ditambahkan:  {1, 2, 3, 4, 'anjay', 5.6, 'icikiwirr'}\n",
            "setelah dihapus:  {1, 3, 4, 'anjay', 5.6, 'icikiwirr'}\n"
          ]
        }
      ]
    },
    {
      "cell_type": "markdown",
      "source": [
        "Berfungsi untuk menyimpan data unik dan tidak berurutan. pada program diatas memiliki beberapa fungsi yaitu set_data.add dann set_data.remove(2).\n",
        "1. fungsi set_data.add berfungsi untuk menambahkan data urutan dan data urutan tersebut akan diletakan paling akhir.\n",
        "2. set_data.remove(2) berfungsi untuk menghapus urutan, urutan yang dihapus adalah urutan kedua."
      ],
      "metadata": {
        "id": "jLOavmFPfBYU"
      }
    },
    {
      "cell_type": "markdown",
      "source": [
        "## GUIDED 6"
      ],
      "metadata": {
        "id": "a_vCTnJ9Murj"
      }
    },
    {
      "cell_type": "code",
      "source": [
        "is_collage = False\n",
        "\n",
        "if is_collage:\n",
        "  print(\"mahasiswa membawa laptop\")\n",
        "else:\n",
        "  print(\"mahasiswa tidak membawa laptop\")"
      ],
      "metadata": {
        "colab": {
          "base_uri": "https://localhost:8080/"
        },
        "id": "oj4d6wx5MxRX",
        "outputId": "3c24871d-2c44-4fec-c433-8504ac716bba"
      },
      "execution_count": null,
      "outputs": [
        {
          "output_type": "stream",
          "name": "stdout",
          "text": [
            "mahasiswa tidak membawa laptop\n"
          ]
        }
      ]
    },
    {
      "cell_type": "markdown",
      "source": [
        "Berfungsi untuk memeriksa apakah program tersebut true/false"
      ],
      "metadata": {
        "id": "NJ2sHZQWga20"
      }
    },
    {
      "cell_type": "markdown",
      "source": [
        "##GUIDED 7"
      ],
      "metadata": {
        "id": "vmjyPIozNomi"
      }
    },
    {
      "cell_type": "code",
      "source": [
        "tinggi = int(input(\"masukan tinggi badan: \"))\n",
        "print(\"tinggi kamu adalah \", tinggi, \"cm\")"
      ],
      "metadata": {
        "colab": {
          "base_uri": "https://localhost:8080/"
        },
        "id": "PSpSKccvNszV",
        "outputId": "ca848519-a107-4863-c06f-2bd106d18451"
      },
      "execution_count": null,
      "outputs": [
        {
          "output_type": "stream",
          "name": "stdout",
          "text": [
            "masukan tinggi badan: 175\n",
            "tinggi kamu adalah  175 cm\n"
          ]
        }
      ]
    },
    {
      "cell_type": "markdown",
      "source": [
        "Berfungsi untuk menginput data tinggi badan, user diminta untuk menginput data tinggi badan dan output akan muncul seperti program diatas."
      ],
      "metadata": {
        "id": "hikvq7RDg5gl"
      }
    },
    {
      "cell_type": "markdown",
      "source": [
        "## GUIDED 8"
      ],
      "metadata": {
        "id": "GvPsn-q8UY5e"
      }
    },
    {
      "cell_type": "code",
      "source": [
        "x = 120\n",
        "if x < 100 :\n",
        " print(\"x kurang dari 100\")\n",
        "elif x < 50 :\n",
        " print(\"x kurang dari 50\")\n",
        "else :\n",
        " print(\"x lebih besar atau sama dengan 100\")\n"
      ],
      "metadata": {
        "colab": {
          "base_uri": "https://localhost:8080/"
        },
        "id": "4aMCXVsYUcry",
        "outputId": "a94a41c7-77b7-4d41-e23e-bc6c5cacdd52"
      },
      "execution_count": null,
      "outputs": [
        {
          "output_type": "stream",
          "name": "stdout",
          "text": [
            "x lebih besar atau sama dengan 100\n"
          ]
        }
      ]
    },
    {
      "cell_type": "markdown",
      "source": [
        "Menjelaskan apakah x adalah bilangan lebih besar dari 100. jika bilangan x lebih dari 100 maka output akan muncul seperti program diatas."
      ],
      "metadata": {
        "id": "iScDQFiPhXFi"
      }
    },
    {
      "cell_type": "markdown",
      "source": [
        "## GUIDED 9"
      ],
      "metadata": {
        "id": "I2YzSdxAUg6_"
      }
    },
    {
      "cell_type": "code",
      "source": [
        "while True:\n",
        "    cuaca = input(\"Masukkan kondisi cuaca (cerah, hujan, berawan, selesai): \").lower()\n",
        "\n",
        "    if cuaca == \"cerah\":\n",
        "        print(\"Hari ini cerah, jangan lupa pakai sunscreen!\")\n",
        "    elif cuaca == \"hujan\":\n",
        "        print(\"Hari ini hujan, jangan lupa bawa payung!\")\n",
        "    elif cuaca == \"berawan\":\n",
        "        print(\"Hari ini berawan, cuaca cukup teduh.\")\n",
        "    elif cuaca == \"selesai\":\n",
        "        print(\"Terima kasih! Program berhenti.\")\n",
        "        break\n",
        "    else:\n",
        "        print(\"Masukkan tidak valid, coba lagi.\")"
      ],
      "metadata": {
        "colab": {
          "base_uri": "https://localhost:8080/"
        },
        "id": "63_YGOEhUkzI",
        "outputId": "bad9d500-d971-42b1-f910-25753e19daff"
      },
      "execution_count": null,
      "outputs": [
        {
          "output_type": "stream",
          "name": "stdout",
          "text": [
            "Masukkan kondisi cuaca (cerah, hujan, berawan, selesai): cerah\n",
            "Hari ini cerah, jangan lupa pakai sunscreen!\n",
            "Masukkan kondisi cuaca (cerah, hujan, berawan, selesai): selesai\n",
            "Terima kasih! Program berhenti.\n"
          ]
        }
      ]
    },
    {
      "cell_type": "markdown",
      "source": [
        "Menjelaskan tentang kondisi cuaca. dimana user menginput pilihan cuaca cerah, hujan, berawan. kemudian user menginput salah satu cuaca dan output akan muncul seperti program diatas. jika selesai menginput maka user akan menginput selesai dan program akan berhenti."
      ],
      "metadata": {
        "id": "q01HfNoPiZk8"
      }
    },
    {
      "cell_type": "markdown",
      "source": [
        "## Unguided 1\n"
      ],
      "metadata": {
        "id": "JVeKNHXOcYRf"
      }
    },
    {
      "cell_type": "code",
      "source": [
        "def isKabisat(tahun):\n",
        "    if tahun % 4 == 0:\n",
        "        if tahun % 100 == 0:\n",
        "            if tahun % 400 == 0:\n",
        "                return True\n",
        "            else:\n",
        "                return False\n",
        "        else:\n",
        "            return True\n",
        "    else:\n",
        "        return False\n",
        "\n",
        "# Contoh penggunaan\n",
        "tahun = int(input(\"Masukkan tahun: \"))\n",
        "hasil = isKabisat(tahun)\n",
        "print(\"Apakah tahun\", tahun, \"adalah tahun kabisat?\", hasil)\n"
      ],
      "metadata": {
        "id": "G3545VsecxSl",
        "colab": {
          "base_uri": "https://localhost:8080/"
        },
        "outputId": "91644206-d778-4510-c2ef-b557c874eaeb"
      },
      "execution_count": 1,
      "outputs": [
        {
          "output_type": "stream",
          "name": "stdout",
          "text": [
            "Masukkan tahun: 2024\n",
            "Apakah tahun 2024 adalah tahun kabisat? True\n"
          ]
        }
      ]
    },
    {
      "cell_type": "markdown",
      "source": [
        "Program ini terdiri dari satu fungsi bernama `isKabisat(tahun)`, yang digunakan untuk menentukan apakah suatu tahun adalah tahun kabisat atau bukan. Fungsi ini bekerja dengan aturan bahwa suatu tahun adalah kabisat jika habis dibagi 4, kecuali jika juga habis dibagi 100, kecuali jika juga habis dibagi 400. Dengan kata lain, jika suatu tahun habis dibagi 4 tetapi tidak habis dibagi 100, maka itu kabisat, sedangkan jika habis dibagi 100 tetapi juga habis dibagi 400, maka itu juga kabisat. Program kemudian meminta input dari pengguna, mengonversinya menjadi angka, dan memanggil fungsi `isKabisat()` untuk mengecek apakah tahun tersebut kabisat atau tidak, lalu mencetak hasilnya dalam format \"Apakah tahun X adalah tahun kabisat? True/False\"."
      ],
      "metadata": {
        "id": "_6GyEeU0v1uz"
      }
    },
    {
      "cell_type": "markdown",
      "source": [
        "## Unguided 2"
      ],
      "metadata": {
        "id": "tPvddpfKvGHe"
      }
    },
    {
      "cell_type": "code",
      "source": [
        "# Fungsi untuk menghitung bilangan Fibonacci ke-n\n",
        "def fibonacci(n):\n",
        "    if n == 1:\n",
        "        return 0\n",
        "    elif n == 2:\n",
        "        return 1\n",
        "    else:\n",
        "        a = 0\n",
        "        b = 1\n",
        "        for i in range(3, n+1):  # Mulai dari suku ke-3\n",
        "            c = a + b\n",
        "            a = b\n",
        "            b = c\n",
        "        return b\n",
        "\n",
        "# Prosedur untuk mencetak barisan Fibonacci hingga suku ke-n\n",
        "def cetak_fibonacci(n):\n",
        "    a = 0\n",
        "    b = 1\n",
        "    if n >= 1:\n",
        "        print(a, end=\" \")\n",
        "    if n >= 2:\n",
        "        print(b, end=\" \")\n",
        "    for i in range(3, n+1):\n",
        "        c = a + b\n",
        "        print(c, end=\" \")\n",
        "        a = b\n",
        "        b = c\n",
        "    print()  # Biar rapi\n",
        "\n",
        "# Input dari pengguna\n",
        "n = int(input(\"Masukkan nilai n: \"))\n",
        "if n <= 0:\n",
        "    print(\"Masukkan angka positif lebih dari 0\")\n",
        "else:\n",
        "    print(\"Bilangan Fibonacci ke-\", n, \":\", fibonacci(n))\n",
        "    print(\"Barisan Fibonacci:\", end=\" \")\n",
        "    cetak_fibonacci(n)\n"
      ],
      "metadata": {
        "colab": {
          "base_uri": "https://localhost:8080/"
        },
        "id": "vQ4JwBzkvIsV",
        "outputId": "e378335f-f965-4ddc-bb2d-092367da9d2c"
      },
      "execution_count": 2,
      "outputs": [
        {
          "output_type": "stream",
          "name": "stdout",
          "text": [
            "Masukkan nilai n: 5\n",
            "Bilangan Fibonacci ke- 5 : 3\n",
            "Barisan Fibonacci: 0 1 1 2 3 \n"
          ]
        }
      ]
    },
    {
      "cell_type": "markdown",
      "source": [
        "Program ini terdiri dari fungsi `fibonacci(n)`, prosedur `cetak_fibonacci(n)`, dan bagian input dari pengguna. Fungsi `fibonacci(n)` menghitung bilangan Fibonacci ke-n dengan menggunakan perulangan, di mana dua angka pertama (0 dan 1) sudah ditentukan, lalu angka selanjutnya dihitung dengan menjumlahkan dua angka sebelumnya. Prosedur `cetak_fibonacci(n)` digunakan untuk mencetak barisan Fibonacci dari suku pertama hingga suku ke-n, dengan cara yang mirip, tetapi langsung mencetak hasilnya tanpa mengembalikan nilai. Setelah itu, program meminta input dari pengguna, memeriksa apakah input valid (harus lebih dari 0), lalu memanggil fungsi untuk mendapatkan bilangan Fibonacci ke-n dan memanggil prosedur untuk mencetak seluruh barisan Fibonacci hingga suku ke-n. Jika pengguna memasukkan angka negatif atau nol, program akan menampilkan pesan peringatan. Dengan cara ini, program dapat menghitung dan mencetak deret Fibonacci dengan cara yang sederhana dan mudah dipahami."
      ],
      "metadata": {
        "id": "ycbHPGiGw5jV"
      }
    }
  ]
}