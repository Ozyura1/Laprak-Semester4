{
  "cells": [
    {
      "cell_type": "markdown",
      "metadata": {
        "id": "view-in-github",
        "colab_type": "text"
      },
      "source": [
        "<a href=\"https://colab.research.google.com/github/Ozyura1/Laprak-Semester4/blob/main/Welcome_To_Colab.ipynb\" target=\"_parent\"><img src=\"https://colab.research.google.com/assets/colab-badge.svg\" alt=\"Open In Colab\"/></a>"
      ]
    },
    {
      "cell_type": "markdown",
      "source": [
        "## GUIDED 1\n"
      ],
      "metadata": {
        "id": "1slinhzgk0fg"
      }
    },
    {
      "cell_type": "code",
      "source": [
        "import numpy as np\n",
        "\n",
        "x = np.array  ([3,7,2,9])\n",
        "y = np.array  ([4,7,1,4])\n",
        "\n",
        "z = x + y\n",
        "\n",
        "print(z)\n",
        "print(z.tolist())"
      ],
      "metadata": {
        "id": "f0JCCJm_k8cg",
        "outputId": "32c14bde-475d-4702-90cd-4ac38ccdb0f0",
        "colab": {
          "base_uri": "https://localhost:8080/"
        }
      },
      "execution_count": 1,
      "outputs": [
        {
          "output_type": "stream",
          "name": "stdout",
          "text": [
            "[ 7 14  3 13]\n",
            "[7, 14, 3, 13]\n"
          ]
        }
      ]
    },
    {
      "cell_type": "markdown",
      "source": [
        "## GUIDED 2"
      ],
      "metadata": {
        "id": "B9itlyMonFzN"
      }
    },
    {
      "cell_type": "code",
      "source": [
        "import numpy as np\n",
        "\n",
        "x = np.array  ([3,7,2,9])\n",
        "y = np.array  ([4,7,1,4])\n",
        "\n",
        "z = np.concatenate ((x,y ))\n",
        "\n",
        "print(z)"
      ],
      "metadata": {
        "id": "_niMWL-snIq8",
        "outputId": "d0687838-bfe5-4808-b9e5-c7a560e34c87",
        "colab": {
          "base_uri": "https://localhost:8080/"
        }
      },
      "execution_count": 4,
      "outputs": [
        {
          "output_type": "stream",
          "name": "stdout",
          "text": [
            "[3 7 2 9 4 7 1 4]\n"
          ]
        }
      ]
    },
    {
      "cell_type": "markdown",
      "source": [
        "## GUIDED 3"
      ],
      "metadata": {
        "id": "vguvxX1Mn1Pt"
      }
    },
    {
      "cell_type": "code",
      "source": [
        "x = np.array([[40,29,63],\n",
        "             [45,70,30],\n",
        "             [30,70,50]])\n",
        "print(\"Dimensi array x:\", x.ndim)"
      ],
      "metadata": {
        "id": "TZdC7MEZn02j",
        "outputId": "a3324da9-1d67-45e1-f17c-21ee45fc16f8",
        "colab": {
          "base_uri": "https://localhost:8080/"
        }
      },
      "execution_count": 8,
      "outputs": [
        {
          "output_type": "stream",
          "name": "stdout",
          "text": [
            "Dimensi array x: 2\n"
          ]
        }
      ]
    },
    {
      "cell_type": "markdown",
      "source": [
        "## GUIDED 4"
      ],
      "metadata": {
        "id": "A0cakgzVqDuo"
      }
    },
    {
      "cell_type": "code",
      "source": [
        "x = np.array([[40,29,63],\n",
        "             [45,70,30]])\n",
        "y = np.array([4.4, 7.2, 9.0])\n",
        "\n",
        "print(\"Shape x:\", x.shape)\n",
        "print(\"Size x:\", x.size)\n",
        "print(\"Type x:\", x.dtype)\n",
        "print(\"Type y:\", y.dtype)"
      ],
      "metadata": {
        "id": "WLJ60WKDqH09",
        "outputId": "8fd9840c-cb80-4f94-fbd7-d36ad0f12bb8",
        "colab": {
          "base_uri": "https://localhost:8080/"
        }
      },
      "execution_count": 12,
      "outputs": [
        {
          "output_type": "stream",
          "name": "stdout",
          "text": [
            "Shape x: (2, 3)\n",
            "Size x: 6\n",
            "Type x: int64\n",
            "Type y: float64\n"
          ]
        }
      ]
    },
    {
      "cell_type": "markdown",
      "source": [
        "## GUIDED 5"
      ],
      "metadata": {
        "id": "nGtqOyp3q4co"
      }
    },
    {
      "cell_type": "code",
      "source": [
        "x = np.zeros((3, 5))\n",
        "y = np.ones((4, 3))\n",
        "z = np.empty((2, 2))\n",
        "k = np.arange(0,10,2)\n",
        "l = np.linspace(0,10,5)\n",
        "m = np.full((2,3),9)\n",
        "n = np.random.random,((2, 3))\n",
        "o = np.random.randint(0, 50, size = (2, 3))\n",
        "\n",
        "print(x)\n",
        "print(y)\n",
        "print(z)\n",
        "print(k)\n",
        "print(l)\n",
        "print(m)\n",
        "print(n)\n",
        "print(o)"
      ],
      "metadata": {
        "id": "B7DHnDHIq8sy",
        "outputId": "c19a8524-12ac-4969-ab78-9397393ccba9",
        "colab": {
          "base_uri": "https://localhost:8080/"
        }
      },
      "execution_count": 30,
      "outputs": [
        {
          "output_type": "stream",
          "name": "stdout",
          "text": [
            "[[0. 0. 0. 0. 0.]\n",
            " [0. 0. 0. 0. 0.]\n",
            " [0. 0. 0. 0. 0.]]\n",
            "[[1. 1. 1.]\n",
            " [1. 1. 1.]\n",
            " [1. 1. 1.]\n",
            " [1. 1. 1.]]\n",
            "[[3.5e-323 3.5e-323]\n",
            " [3.5e-323 3.5e-323]]\n",
            "[0 2 4 6 8]\n",
            "[ 0.   2.5  5.   7.5 10. ]\n",
            "[[9 9 9]\n",
            " [9 9 9]]\n",
            "(<built-in method random of numpy.random.mtrand.RandomState object at 0x7f7a36d56d40>, (2, 3))\n",
            "[[28 17 31]\n",
            " [ 5 49 21]]\n"
          ]
        }
      ]
    },
    {
      "cell_type": "code",
      "source": [],
      "metadata": {
        "id": "k9NSiRLZw2Cx"
      },
      "execution_count": null,
      "outputs": []
    },
    {
      "cell_type": "markdown",
      "source": [
        "##GUIDED 6"
      ],
      "metadata": {
        "id": "aXtcRczzwzlV"
      }
    },
    {
      "cell_type": "code",
      "source": [
        "def penjumlahan(bilangan1, bilangan2):\n",
        "  return bilangan1 + bilangan2\n",
        "x = np.fromfunction(penjumlahan, (3, 2), dtype=int )\n",
        "\n",
        "print(x)"
      ],
      "metadata": {
        "id": "5E7cdkqvw3sX",
        "outputId": "7cca4dcc-81ce-48f8-a1af-dfe4dcd4f665",
        "colab": {
          "base_uri": "https://localhost:8080/"
        }
      },
      "execution_count": 34,
      "outputs": [
        {
          "output_type": "stream",
          "name": "stdout",
          "text": [
            "[[0 1]\n",
            " [1 2]\n",
            " [2 3]]\n"
          ]
        }
      ]
    },
    {
      "cell_type": "markdown",
      "source": [
        "## GUIDED 7"
      ],
      "metadata": {
        "id": "TA6Vn66qxbPI"
      }
    },
    {
      "cell_type": "code",
      "source": [
        "x = np.array([4, 7, 9, 2, 5])\n",
        "\n",
        "# Menghapus elemen pada indeks 2\n",
        "x = np.delete(x, 2)\n",
        "print(x)\n",
        "\n",
        "y = np.array([4, 7, 9, 2, 5])\n",
        "# Mengganti elemen yang lebih besar dari 3 dengan NaN\n",
        "y = np.where(y > 3, np.nan, y)\n",
        "# Menghapus elemen NaN dari array\n",
        "y = y[~np.isnan(y)]\n",
        "print(X)"
      ],
      "metadata": {
        "id": "Z3GZwPg0xdNw",
        "outputId": "68510f86-7b50-4c8d-9539-2543a3990c1c",
        "colab": {
          "base_uri": "https://localhost:8080/"
        }
      },
      "execution_count": 40,
      "outputs": [
        {
          "output_type": "stream",
          "name": "stdout",
          "text": [
            "[4 7 2 5]\n",
            "[[0. 0. 0. 0. 0.]\n",
            " [0. 0. 0. 0. 0.]\n",
            " [0. 0. 0. 0. 0.]]\n"
          ]
        }
      ]
    },
    {
      "cell_type": "markdown",
      "source": [
        "## GUIDED 8\n"
      ],
      "metadata": {
        "id": "9wEFe6kuyMjL"
      }
    },
    {
      "cell_type": "code",
      "source": [
        "import numpy as np\n",
        "x = np.array([4, 7, 9, 2, 5])\n",
        "y = np.sort(x)\n",
        "\n",
        "print(y)"
      ],
      "metadata": {
        "id": "FmZpNBy3sOOc",
        "outputId": "b7339bdc-113c-4d02-ee17-c5098f619172",
        "colab": {
          "base_uri": "https://localhost:8080/"
        }
      },
      "execution_count": 43,
      "outputs": [
        {
          "output_type": "stream",
          "name": "stdout",
          "text": [
            "[2 4 5 7 9]\n"
          ]
        }
      ]
    },
    {
      "cell_type": "markdown",
      "source": [
        "## GUIDED 9"
      ],
      "metadata": {
        "id": "i-1AFct6zHAZ"
      }
    },
    {
      "cell_type": "code",
      "source": [
        "import numpy as np\n",
        "\n",
        "\n",
        "x = np.array([4, 7, 9, 2, 5])\n",
        "y = np.sort([x])\n",
        "print(x[2])\n",
        "\n",
        "# Slicing\n",
        "subset = x[1:4]\n",
        "print(subset)"
      ],
      "metadata": {
        "id": "F4tTKA_ky8Ki",
        "outputId": "d5382006-6370-4dfd-acae-622f2f0f0924",
        "colab": {
          "base_uri": "https://localhost:8080/"
        }
      },
      "execution_count": 48,
      "outputs": [
        {
          "output_type": "stream",
          "name": "stdout",
          "text": [
            "9\n",
            "[7 9 2]\n"
          ]
        }
      ]
    },
    {
      "cell_type": "markdown",
      "source": [
        "## GUIDED 10"
      ],
      "metadata": {
        "id": "6r8qHCu90Vw2"
      }
    },
    {
      "cell_type": "code",
      "source": [
        "# prompt: x = np.array([3, 2 6, 5])\n",
        "\n",
        "x = np.array([3, 2, 6, 5])\n",
        "\n",
        "y = x.view()\n",
        "y[0] = 99\n",
        "\n",
        "print(\"Array asli :\", x)\n",
        "print(\"Shallow copy :\", y)\n"
      ],
      "metadata": {
        "id": "-YAQWY9UzQS0",
        "outputId": "170e3932-8fae-4c5c-c266-714f5c157e4b",
        "colab": {
          "base_uri": "https://localhost:8080/"
        }
      },
      "execution_count": 47,
      "outputs": [
        {
          "output_type": "stream",
          "name": "stdout",
          "text": [
            "Array asli : [99  2  6  5]\n",
            "Shallow copy : [99  2  6  5]\n"
          ]
        }
      ]
    },
    {
      "cell_type": "markdown",
      "source": [
        "## GUIDED 11"
      ],
      "metadata": {
        "id": "zZtrZu-90tia"
      }
    },
    {
      "cell_type": "code",
      "source": [
        "import numpy as np\n",
        "\n",
        "#shallow copy\n",
        "x = np.array([3, 2, 6, 5])\n",
        "y = x.copy()\n",
        "y[0] = 99\n",
        "\n",
        "print(\"Array asli:\", x)\n",
        "print(\"Array copy:\", y)"
      ],
      "metadata": {
        "id": "N8ttSDyD0Djg",
        "outputId": "943d7c70-eb48-4e3f-d59a-2c3cc7af169f",
        "colab": {
          "base_uri": "https://localhost:8080/"
        }
      },
      "execution_count": 51,
      "outputs": [
        {
          "output_type": "stream",
          "name": "stdout",
          "text": [
            "Array asli: [3 2 6 5]\n",
            "Array copy: [99  2  6  5]\n"
          ]
        }
      ]
    },
    {
      "cell_type": "markdown",
      "source": [
        "## GUIDED 12"
      ],
      "metadata": {
        "id": "jLvUBI4O1TXr"
      }
    },
    {
      "cell_type": "code",
      "source": [
        "x = np.array ([7, 2, 9, 3])\n",
        "\n",
        "#Nilai Maksimum\n",
        "max_value = np.max(x)\n",
        "print (\"Nilai maks : \", max_value)\n",
        "\n",
        "#Nilai Minimum\n",
        "min_value = np.min(x)\n",
        "print (\"Nilai min : \", min_value)\n",
        "\n",
        "#Penjumlahan\n",
        "sum_value = np.sum(x)\n",
        "print(\"Jumlah total: \", sum_value)\n",
        "\n",
        "#Rata - rata\n",
        "mean_value = np.mean(x)\n",
        "print(\"Rata - rata: \", mean_value)"
      ],
      "metadata": {
        "id": "jv8DHVYc1PdP",
        "outputId": "663e3f13-0a5e-45a6-beae-455069eb0252",
        "colab": {
          "base_uri": "https://localhost:8080/"
        }
      },
      "execution_count": 52,
      "outputs": [
        {
          "output_type": "stream",
          "name": "stdout",
          "text": [
            "Nilai maks :  9\n",
            "Nilai min :  2\n",
            "Jumlah total:  21\n",
            "Rata - rata:  5.25\n"
          ]
        }
      ]
    },
    {
      "cell_type": "markdown",
      "source": [
        "## GUIDED 13"
      ],
      "metadata": {
        "id": "mYCXtzSg13yL"
      }
    },
    {
      "cell_type": "code",
      "source": [],
      "metadata": {
        "id": "41q9AK2v1qEV"
      },
      "execution_count": null,
      "outputs": []
    },
    {
      "cell_type": "markdown",
      "source": [
        "## GUIDED 14"
      ],
      "metadata": {
        "id": "DfZyvmzE172D"
      }
    },
    {
      "cell_type": "code",
      "source": [
        "x = np.array([4, 9, 3, 7, 1, 4])\n",
        "\n",
        "# Mengubah ne=menjadi array 2D dengan 2 baris dan 3 kolom\n",
        "y ="
      ],
      "metadata": {
        "id": "PkiryEQf1-wE"
      },
      "execution_count": null,
      "outputs": []
    }
  ],
  "metadata": {
    "colab": {
      "name": "Welcome To Colab",
      "toc_visible": true,
      "provenance": [],
      "include_colab_link": true
    },
    "kernelspec": {
      "display_name": "Python 3",
      "name": "python3"
    }
  },
  "nbformat": 4,
  "nbformat_minor": 0
}
