{
  "nbformat": 4,
  "nbformat_minor": 0,
  "metadata": {
    "colab": {
      "provenance": [],
      "toc_visible": true,
      "include_colab_link": true
    },
    "kernelspec": {
      "name": "python3",
      "display_name": "Python 3"
    },
    "language_info": {
      "name": "python"
    }
  },
  "cells": [
    {
      "cell_type": "markdown",
      "metadata": {
        "id": "view-in-github",
        "colab_type": "text"
      },
      "source": [
        "<a href=\"https://colab.research.google.com/github/Ozyura1/Laprak-Semester4/blob/main/Modul_5_BFS.ipynb\" target=\"_parent\"><img src=\"https://colab.research.google.com/assets/colab-badge.svg\" alt=\"Open In Colab\"/></a>"
      ]
    },
    {
      "cell_type": "markdown",
      "source": [
        "# Guided 1 (Implementasi BFS pada Tree)"
      ],
      "metadata": {
        "id": "9mpl-tvfGi7D"
      }
    },
    {
      "cell_type": "code",
      "source": [
        "import networkx as nx  # untuk membuat grafik\n",
        "import matplotlib.pyplot as plt  # Untuk plot grafik\n",
        "\n",
        "# Fungsi pendukung untuk mencetak graf\n",
        "def show_graph(G, pos=None, title=''):\n",
        "    # Membuat pos jika pos tidak diberikan\n",
        "    if pos is None:\n",
        "        pos = nx.spring_layout(G)\n",
        "\n",
        "    # Fungsi untuk menggambar node\n",
        "    nx.draw(\n",
        "        G,  # Graf NetworkX\n",
        "        pos,  # Posisi node\n",
        "        with_labels=True,  # Menampilkan nama node\n",
        "        node_color='pink',  # Warna node\n",
        "        node_size=2000,  # Ukuran node\n",
        "        font_color=\"white\",  # Warna font label node\n",
        "        font_weight=\"bold\",  # Ketebalan font label node\n",
        "        width=5  # Ketebalan garis edge\n",
        "    )\n",
        "\n",
        "    # Mengambil label edge jika ada weight\n",
        "    edge_labels = nx.get_edge_attributes(G, 'weight')\n",
        "\n",
        "    # Fungsi untuk menggambar label pada edge\n",
        "    nx.draw_networkx_edge_labels(\n",
        "        G,\n",
        "        pos,\n",
        "        edge_labels=edge_labels,  # Data weight\n",
        "        font_color='blue',  # Warna font label edge\n",
        "        font_weight=\"bold\",  # Ketebalan font label edge\n",
        "        font_size=12,  # Ukuran font label edge\n",
        "    )\n",
        "\n",
        "    plt.margins(0.2)  # Memberikan margin pada plot\n",
        "    plt.title(\"Contoh BFS Pada Tree\")  # Menampilkan judul graf jika diberikan\n",
        "    plt.show()  # Menampilkan graf menggunakan matplotlib\n",
        "\n",
        "# Posisi node\n",
        "pos = {\n",
        "    'A': (0, 3),\n",
        "    'B': (-10, 2), 'C': (10, 2),\n",
        "    'D': (-15, 1), 'E': (-5, 1), 'F': (5, 1), 'G': (15, 1),\n",
        "    'H': (-18, 0), 'I': (-12, 0), 'J': (-8, 0), 'K': (-2, 0),\n",
        "    'L': (2, 0), 'M': (8, 0), 'N': (12, 0), 'O': (18, 0)\n",
        "}\n",
        "\n",
        "# Inisialisasi graf kosong\n",
        "G = nx.Graph()\n",
        "\n",
        "# Definisi node dan edge\n",
        "edges = [\n",
        "    ('A', 'B'), ('A', 'C'),\n",
        "    ('B', 'D'), ('B', 'E'),\n",
        "    ('C', 'F'), ('C', 'G'),\n",
        "    ('D', 'H'), ('D', 'I'),\n",
        "    ('E', 'J'), ('E', 'K'),\n",
        "    ('F', 'L'), ('F', 'M'),\n",
        "    ('G', 'N'), ('G', 'O')\n",
        "]\n",
        "\n",
        "# Menambahkan edge pada graf\n",
        "G.add_edges_from(edges)\n",
        "\n",
        "# Evaluasi elemen pada graf\n",
        "print(\"Elemen pada Graf:\")\n",
        "print(\"Daftar Node pada Graf:\", list(G.nodes()))\n",
        "print(\"Daftar Edge pada Graf:\", list(G.edges()))\n",
        "print(\"Jumlah Node pada Graf:\", G.number_of_nodes())\n",
        "print(\"Jumlah Edge pada Graf:\", G.number_of_edges())\n",
        "\n",
        "# Mencetak graf\n",
        "show_graph(G, pos=pos, title=\"Tree Graph\")"
      ],
      "metadata": {
        "colab": {
          "base_uri": "https://localhost:8080/",
          "height": 646
        },
        "id": "Kh7c62piGl0N",
        "outputId": "c76a23e2-5ae1-465a-a434-2b7f73a1dcf5"
      },
      "execution_count": null,
      "outputs": [
        {
          "output_type": "stream",
          "name": "stdout",
          "text": [
            "Elemen pada Graf:\n",
            "Daftar Node pada Graf: ['A', 'B', 'C', 'D', 'E', 'F', 'G', 'H', 'I', 'J', 'K', 'L', 'M', 'N', 'O']\n",
            "Daftar Edge pada Graf: [('A', 'B'), ('A', 'C'), ('B', 'D'), ('B', 'E'), ('C', 'F'), ('C', 'G'), ('D', 'H'), ('D', 'I'), ('E', 'J'), ('E', 'K'), ('F', 'L'), ('F', 'M'), ('G', 'N'), ('G', 'O')]\n",
            "Jumlah Node pada Graf: 15\n",
            "Jumlah Edge pada Graf: 14\n"
          ]
        },
        {
          "output_type": "display_data",
          "data": {
            "text/plain": [
              "<Figure size 640x480 with 1 Axes>"
            ],
            "image/png": "[encoded data removed]"
          },
          "metadata": {}
        }
      ]
    },
    {
      "cell_type": "markdown",
      "source": [
        "# Guided 2 (Urutan Breadth First Search)"
      ],
      "metadata": {
        "id": "hBfYvinQHm7K"
      }
    },
    {
      "cell_type": "code",
      "source": [
        "print(\"Urutan node yang dikunjungi:\")\n",
        "i = 1\n",
        "for nodes in nx.bfs_edges(G, source='A'):\n",
        "    print(f\"{i}. {nodes[0]} - {nodes[1]}\")\n",
        "    i += 1"
      ],
      "metadata": {
        "colab": {
          "base_uri": "https://localhost:8080/"
        },
        "id": "RgLmdUBLHn7H",
        "outputId": "b9611df4-0575-4348-e5d0-44802963fe55"
      },
      "execution_count": null,
      "outputs": [
        {
          "output_type": "stream",
          "name": "stdout",
          "text": [
            "Urutan node yang dikunjungi:\n",
            "1. A - B\n",
            "2. A - C\n",
            "3. B - D\n",
            "4. B - E\n",
            "5. C - F\n",
            "6. C - G\n",
            "7. D - H\n",
            "8. D - I\n",
            "9. E - J\n",
            "10. E - K\n",
            "11. F - L\n",
            "12. F - M\n",
            "13. G - N\n",
            "14. G - O\n"
          ]
        }
      ]
    },
    {
      "cell_type": "markdown",
      "source": [
        "# Guided 3 (Urutan Breadth First Search dengan depth 2)"
      ],
      "metadata": {
        "id": "tuUyJAsuH3yx"
      }
    },
    {
      "cell_type": "code",
      "source": [
        "print(\"Urutan node yang dikunjungi:\")\n",
        "i = 1\n",
        "for nodes in nx.bfs_tree(G, source='A', depth_limit=2).edges():\n",
        "    print(f\"{i}. {nodes[0]} - {nodes[1]}\")\n",
        "    i += 1\n"
      ],
      "metadata": {
        "colab": {
          "base_uri": "https://localhost:8080/"
        },
        "id": "7fs_f8QDH2hG",
        "outputId": "e345c267-f15a-48c2-cd49-67e8c7d6df32"
      },
      "execution_count": null,
      "outputs": [
        {
          "output_type": "stream",
          "name": "stdout",
          "text": [
            "Urutan node yang dikunjungi:\n",
            "1. A - B\n",
            "2. A - C\n",
            "3. B - D\n",
            "4. B - E\n",
            "5. C - F\n",
            "6. C - G\n"
          ]
        }
      ]
    },
    {
      "cell_type": "markdown",
      "source": [
        "# Guided 4 (Implementasi BFS pada Directed Graph)"
      ],
      "metadata": {
        "id": "eCL2XogIIKCK"
      }
    },
    {
      "cell_type": "code",
      "source": [
        "import networkx as nx\n",
        "import matplotlib.pyplot as plt\n",
        "\n",
        "# Fungsi untuk menampilkan graf\n",
        "def show_graph(G, pos=None, title='', labels=None):\n",
        "    if pos is None:\n",
        "        pos = nx.spring_layout(G)\n",
        "\n",
        "    nx.draw(\n",
        "        G,\n",
        "        pos,\n",
        "        with_labels=True,\n",
        "        labels=labels,  # Menampilkan label node jika diberikan\n",
        "        node_color='red',\n",
        "        node_size=2000,\n",
        "        font_color=\"white\",\n",
        "        font_weight=\"bold\",\n",
        "        width=2\n",
        "    )\n",
        "\n",
        "    # Menampilkan label edge jika memiliki atribut 'weight'\n",
        "    edge_labels = nx.get_edge_attributes(G, 'weight')\n",
        "    nx.draw_networkx_edge_labels(\n",
        "        G,\n",
        "        pos,\n",
        "        edge_labels=edge_labels,\n",
        "        font_color='blue',\n",
        "        font_weight=\"bold\",\n",
        "        font_size=12,\n",
        "    )\n",
        "\n",
        "    plt.margins(0.2)\n",
        "    plt.title(title)\n",
        "    plt.show()\n",
        "\n",
        "# Definisi posisi node agar sesuai dengan gambar\n",
        "pos = {\n",
        "    'A': (0, 1),\n",
        "    'B': (1, 2),\n",
        "    'C': (1, 0),\n",
        "    'D': (2, 3),\n",
        "    'E': (2, 1.5),\n",
        "    'F': (2, 0)\n",
        "}\n",
        "\n",
        "# Membuat directed graph\n",
        "G = nx.DiGraph()\n",
        "\n",
        "# Menambahkan edge ke dalam graf\n",
        "edges = [\n",
        "    ('A', 'B'), ('A', 'C'),\n",
        "    ('B', 'D'), ('B', 'E'),\n",
        "    ('C', 'E'), ('C', 'F'),\n",
        "    ('E', 'D'), ('E', 'F')\n",
        "]\n",
        "G.add_edges_from(edges)\n",
        "\n",
        "# Menambahkan label pada node\n",
        "labels = {node: node for node in G.nodes()}\n",
        "labels['A'] = 'A\\nStart'\n",
        "labels['F'] = 'F\\nGoal'\n",
        "\n",
        "# Menampilkan informasi graf\n",
        "print(\"Elemen pada Graf:\")\n",
        "print(\"Daftar Node pada Graf:\", G.nodes())\n",
        "print(\"Daftar Edge pada Graf:\", G.edges())\n",
        "print(\"Jumlah Node pada Graf:\", G.number_of_nodes())\n",
        "print(\"Jumlah Edge pada Graf:\", G.number_of_edges())\n",
        "\n",
        "# Visualisasi graf\n",
        "show_graph(G, pos=pos, labels=labels)"
      ],
      "metadata": {
        "colab": {
          "base_uri": "https://localhost:8080/",
          "height": 603
        },
        "id": "fsotidnDILql",
        "outputId": "dfff312c-b800-44c8-d666-b4f98cdddfa8"
      },
      "execution_count": null,
      "outputs": [
        {
          "output_type": "stream",
          "name": "stdout",
          "text": [
            "Elemen pada Graf:\n",
            "Daftar Node pada Graf: ['A', 'B', 'C', 'D', 'E', 'F']\n",
            "Daftar Edge pada Graf: [('A', 'B'), ('A', 'C'), ('B', 'D'), ('B', 'E'), ('C', 'E'), ('C', 'F'), ('E', 'D'), ('E', 'F')]\n",
            "Jumlah Node pada Graf: 6\n",
            "Jumlah Edge pada Graf: 8\n"
          ]
        },
        {
          "output_type": "display_data",
          "data": {
            "text/plain": [
              "<Figure size 640x480 with 1 Axes>"
            ],
            "image/png": "[encoded data removed]"
          },
          "metadata": {}
        }
      ]
    },
    {
      "cell_type": "markdown",
      "source": [
        "# Guided 5 (Urutan Breadth-First Search pada Directed Graph)\n",
        "\n"
      ],
      "metadata": {
        "id": "3jBLDr5sIepx"
      }
    },
    {
      "cell_type": "code",
      "source": [
        "print(\"Urutan node yang dikunjungi (BFS dari A):\")\n",
        "i = 1\n",
        "for edge in nx.bfs_edges(G, source='A'):\n",
        "    print(f\"{i}. {edge[0]} → {edge[1]}\")\n",
        "    i += 1"
      ],
      "metadata": {
        "colab": {
          "base_uri": "https://localhost:8080/"
        },
        "id": "EqKQ1YLxIi7Z",
        "outputId": "df551a1c-565e-470c-ae70-8111c3d4e585"
      },
      "execution_count": null,
      "outputs": [
        {
          "output_type": "stream",
          "name": "stdout",
          "text": [
            "Urutan node yang dikunjungi (BFS dari A):\n",
            "1. A → B\n",
            "2. A → C\n",
            "3. B → D\n",
            "4. B → E\n",
            "5. C → F\n"
          ]
        }
      ]
    },
    {
      "cell_type": "markdown",
      "source": [
        "# Guided 6 (Urutan Breadth First Search dengan depth 1 pada Directed Graph)"
      ],
      "metadata": {
        "id": "YmFmr7fyIziT"
      }
    },
    {
      "cell_type": "code",
      "source": [
        "print(\"Urutan node yang dikunjungi (BFS dari A dengan depth 1):\")\n",
        "i = 1\n",
        "for edge in nx.bfs_edges(G, source='A', depth_limit=1):\n",
        "    print(f\"{i}. {edge[0]} → {edge[1]}\")\n",
        "    i += 1"
      ],
      "metadata": {
        "colab": {
          "base_uri": "https://localhost:8080/"
        },
        "id": "jDtQNuG5I7i9",
        "outputId": "815d3219-b6ef-4402-c353-5838b931801f"
      },
      "execution_count": null,
      "outputs": [
        {
          "output_type": "stream",
          "name": "stdout",
          "text": [
            "Urutan node yang dikunjungi (BFS dari A dengan depth 1):\n",
            "1. A → B\n",
            "2. A → C\n"
          ]
        }
      ]
    }
  ]
}